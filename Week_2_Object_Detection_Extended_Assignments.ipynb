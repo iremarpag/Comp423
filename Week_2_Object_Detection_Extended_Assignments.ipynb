{
  "nbformat": 4,
  "nbformat_minor": 0,
  "metadata": {
    "accelerator": "TPU",
    "colab": {
      "name": "Week_2_Object_Detection_Extended_Assignments.ipynb",
      "provenance": [],
      "collapsed_sections": [],
      "toc_visible": true
    },
    "kernelspec": {
      "display_name": "Python 3",
      "language": "python",
      "name": "python3"
    },
    "language_info": {
      "codemirror_mode": {
        "name": "ipython",
        "version": 3
      },
      "file_extension": ".py",
      "mimetype": "text/x-python",
      "name": "python",
      "nbconvert_exporter": "python",
      "pygments_lexer": "ipython3",
      "version": "3.7.1"
    }
  },
  "cells": [
    {
      "cell_type": "markdown",
      "metadata": {
        "id": "NGI84rsSoYvC"
      },
      "source": [
        "# Week 4: Flow Estimation\n",
        "\n",
        "If you are running on Colab,\n",
        "* Go to runtime -> change runtime type -> select \"GPU\" as the hardware accelerator. "
      ]
    },
    {
      "cell_type": "markdown",
      "metadata": {
        "id": "tNfFwd7nvrm-"
      },
      "source": [
        "## Having Fun with Optical Flow"
      ]
    },
    {
      "cell_type": "markdown",
      "metadata": {
        "id": "oCg1vNqAo9WJ"
      },
      "source": [
        "### ARFlow\n",
        "\n",
        "Download the code for ARFlow from this link and install the requirements as recommended: https://github.com/lliuz/ARFlow\n",
        "\n",
        "Make sure that you can run the inference.py without a problem before the next part."
      ]
    },
    {
      "cell_type": "markdown",
      "metadata": {
        "id": "JeILsR5soikP"
      },
      "source": [
        "If you could not install ARFlow on your local machine, you can follow these steps either on Colab or on your own machine to make it work:"
      ]
    },
    {
      "cell_type": "markdown",
      "metadata": {
        "id": "ktXKpClioikP"
      },
      "source": [
        "Download the repository:"
      ]
    },
    {
      "cell_type": "code",
      "metadata": {
        "colab": {
          "base_uri": "https://localhost:8080/"
        },
        "id": "LeUmxFn2oikQ",
        "outputId": "86dc51bd-5ecb-49a1-a725-64c7a69f787c"
      },
      "source": [
        "!wget https://github.com/lliuz/ARFlow/archive/master.zip"
      ],
      "execution_count": null,
      "outputs": [
        {
          "output_type": "stream",
          "text": [
            "--2021-03-14 21:26:59--  https://github.com/lliuz/ARFlow/archive/master.zip\n",
            "Resolving github.com (github.com)... 140.82.114.3\n",
            "Connecting to github.com (github.com)|140.82.114.3|:443... connected.\n",
            "HTTP request sent, awaiting response... 302 Found\n",
            "Location: https://codeload.github.com/lliuz/ARFlow/zip/master [following]\n",
            "--2021-03-14 21:26:59--  https://codeload.github.com/lliuz/ARFlow/zip/master\n",
            "Resolving codeload.github.com (codeload.github.com)... 140.82.114.10\n",
            "Connecting to codeload.github.com (codeload.github.com)|140.82.114.10|:443... connected.\n",
            "HTTP request sent, awaiting response... 200 OK\n",
            "Length: unspecified [application/zip]\n",
            "Saving to: ‘master.zip’\n",
            "\n",
            "master.zip              [           <=>      ]  75.68M  17.2MB/s    in 4.4s    \n",
            "\n",
            "2021-03-14 21:27:04 (17.2 MB/s) - ‘master.zip’ saved [79359531]\n",
            "\n"
          ],
          "name": "stdout"
        }
      ]
    },
    {
      "cell_type": "markdown",
      "metadata": {
        "id": "9C0ORizRoikQ"
      },
      "source": [
        "Unzip the repository:"
      ]
    },
    {
      "cell_type": "code",
      "metadata": {
        "colab": {
          "base_uri": "https://localhost:8080/"
        },
        "id": "88j3-VWdoikR",
        "outputId": "6fedc733-5bb5-4c92-afcb-0bc4f06e4ff1"
      },
      "source": [
        "!unzip master.zip"
      ],
      "execution_count": null,
      "outputs": [
        {
          "output_type": "stream",
          "text": [
            "Archive:  master.zip\n",
            "e92a8bbe66f0ced244267f43e3e55ad0fe46ff3e\n",
            "   creating: ARFlow-master/\n",
            " extracting: ARFlow-master/.gitignore  \n",
            "  inflating: ARFlow-master/Dockerfile  \n",
            "  inflating: ARFlow-master/LICENSE   \n",
            "  inflating: ARFlow-master/README.md  \n",
            "  inflating: ARFlow-master/basic_train.py  \n",
            "   creating: ARFlow-master/checkpoints/\n",
            "   creating: ARFlow-master/checkpoints/CityScapes/\n",
            "  inflating: ARFlow-master/checkpoints/CityScapes/pwclite_ar.tar  \n",
            "   creating: ARFlow-master/checkpoints/KITTI12/\n",
            "  inflating: ARFlow-master/checkpoints/KITTI12/pwclite_ar.tar  \n",
            "  inflating: ARFlow-master/checkpoints/KITTI12/pwclite_ar_mv.tar  \n",
            "   creating: ARFlow-master/checkpoints/KITTI15/\n",
            "  inflating: ARFlow-master/checkpoints/KITTI15/pwclite_ar.tar  \n",
            "  inflating: ARFlow-master/checkpoints/KITTI15/pwclite_ar_mv.tar  \n",
            "  inflating: ARFlow-master/checkpoints/KITTI15/pwclite_raw.tar  \n",
            "   creating: ARFlow-master/checkpoints/Sintel/\n",
            "  inflating: ARFlow-master/checkpoints/Sintel/pwclite_ar.tar  \n",
            "  inflating: ARFlow-master/checkpoints/Sintel/pwclite_ar_mv.tar  \n",
            "  inflating: ARFlow-master/checkpoints/Sintel/pwclite_raw.tar  \n",
            "   creating: ARFlow-master/configs/\n",
            "  inflating: ARFlow-master/configs/kitti15_ft.json  \n",
            "  inflating: ARFlow-master/configs/kitti15_ft_ar.json  \n",
            "  inflating: ARFlow-master/configs/kitti_raw.json  \n",
            "  inflating: ARFlow-master/configs/sintel_ft.json  \n",
            "  inflating: ARFlow-master/configs/sintel_ft_ar.json  \n",
            "  inflating: ARFlow-master/configs/sintel_raw.json  \n",
            "   creating: ARFlow-master/datasets/\n",
            "  inflating: ARFlow-master/datasets/flow_datasets.py  \n",
            "  inflating: ARFlow-master/datasets/get_dataset.py  \n",
            "  inflating: ARFlow-master/datasets/kitti_train_2f_sv.txt  \n",
            "   creating: ARFlow-master/examples/\n",
            "  inflating: ARFlow-master/examples/img0.png  \n",
            "  inflating: ARFlow-master/examples/img1.png  \n",
            "  inflating: ARFlow-master/examples/img2.png  \n",
            "  inflating: ARFlow-master/inference.py  \n",
            "  inflating: ARFlow-master/logger.py  \n",
            "   creating: ARFlow-master/losses/\n",
            "  inflating: ARFlow-master/losses/flow_loss.py  \n",
            "  inflating: ARFlow-master/losses/get_loss.py  \n",
            "  inflating: ARFlow-master/losses/loss_blocks.py  \n",
            "   creating: ARFlow-master/models/\n",
            "  inflating: ARFlow-master/models/correlation_native.py  \n",
            "   creating: ARFlow-master/models/correlation_package/\n",
            " extracting: ARFlow-master/models/correlation_package/__init__.py  \n",
            "  inflating: ARFlow-master/models/correlation_package/correlation.py  \n",
            "  inflating: ARFlow-master/models/correlation_package/correlation_cuda.cc  \n",
            "  inflating: ARFlow-master/models/correlation_package/correlation_cuda_kernel.cu  \n",
            "  inflating: ARFlow-master/models/correlation_package/correlation_cuda_kernel.cuh  \n",
            "  inflating: ARFlow-master/models/correlation_package/setup.py  \n",
            "  inflating: ARFlow-master/models/get_model.py  \n",
            "  inflating: ARFlow-master/models/pwclite.py  \n",
            "  inflating: ARFlow-master/requirements.txt  \n",
            "  inflating: ARFlow-master/train.py  \n",
            "   creating: ARFlow-master/trainer/\n",
            "  inflating: ARFlow-master/trainer/base_trainer.py  \n",
            "  inflating: ARFlow-master/trainer/get_trainer.py  \n",
            "  inflating: ARFlow-master/trainer/kitti_trainer.py  \n",
            "  inflating: ARFlow-master/trainer/kitti_trainer_ar.py  \n",
            "  inflating: ARFlow-master/trainer/sintel_trainer.py  \n",
            "  inflating: ARFlow-master/trainer/sintel_trainer_ar.py  \n",
            "   creating: ARFlow-master/transforms/\n",
            "   creating: ARFlow-master/transforms/ar_transforms/\n",
            "  inflating: ARFlow-master/transforms/ar_transforms/ap_transforms.py  \n",
            "  inflating: ARFlow-master/transforms/ar_transforms/interpolation.py  \n",
            "  inflating: ARFlow-master/transforms/ar_transforms/oc_transforms.py  \n",
            "  inflating: ARFlow-master/transforms/ar_transforms/sp_transfroms.py  \n",
            "  inflating: ARFlow-master/transforms/co_transforms.py  \n",
            "  inflating: ARFlow-master/transforms/sep_transforms.py  \n",
            "   creating: ARFlow-master/utils/\n",
            "  inflating: ARFlow-master/utils/flow_utils.py  \n",
            "  inflating: ARFlow-master/utils/misc_utils.py  \n",
            "  inflating: ARFlow-master/utils/torch_utils.py  \n",
            "  inflating: ARFlow-master/utils/warp_utils.py  \n"
          ],
          "name": "stdout"
        }
      ]
    },
    {
      "cell_type": "markdown",
      "metadata": {
        "id": "TmJVb0EmoikR"
      },
      "source": [
        "Navigate to the repository:"
      ]
    },
    {
      "cell_type": "code",
      "metadata": {
        "colab": {
          "base_uri": "https://localhost:8080/"
        },
        "id": "9Wv7vna9oikR",
        "outputId": "8087a086-4615-4254-d126-a116c70a277d"
      },
      "source": [
        "cd ARFlow-master/"
      ],
      "execution_count": null,
      "outputs": [
        {
          "output_type": "stream",
          "text": [
            "/content/ARFlow-master\n"
          ],
          "name": "stdout"
        }
      ]
    },
    {
      "cell_type": "markdown",
      "metadata": {
        "id": "eLeP_HEVoikR"
      },
      "source": [
        "From the menu on the left, open `models/pwclite.py` file, comment the 6th line and uncomment the 7th line.\n",
        "Then, **if you are using Colab you should not run the next cell**. but if you are on your local machine, install the requirements:"
      ]
    },
    {
      "cell_type": "code",
      "metadata": {
        "id": "TcQ9VWpFoikS"
      },
      "source": [
        "!pip3 install -r requirements.txt"
      ],
      "execution_count": null,
      "outputs": []
    },
    {
      "cell_type": "markdown",
      "metadata": {
        "id": "OoYzDeMXoikS"
      },
      "source": [
        "Now you should be able to run the following:"
      ]
    },
    {
      "cell_type": "code",
      "metadata": {
        "colab": {
          "base_uri": "https://localhost:8080/",
          "height": 374
        },
        "id": "dBXU1CLfoikS",
        "outputId": "9fff6935-07a2-4ce8-eef4-1f2910462e46"
      },
      "source": [
        "%run inference.py -m checkpoints/KITTI15/pwclite_ar.tar -s 384 640  -i examples/img1.png examples/img2.png"
      ],
      "execution_count": null,
      "outputs": [
        {
          "output_type": "error",
          "ename": "ModuleNotFoundError",
          "evalue": "ignored",
          "traceback": [
            "\u001b[0;31m---------------------------------------------------------------------------\u001b[0m",
            "\u001b[0;31mModuleNotFoundError\u001b[0m                       Traceback (most recent call last)",
            "\u001b[0;32m/content/ARFlow-master/inference.py\u001b[0m in \u001b[0;36m<module>\u001b[0;34m()\u001b[0m\n\u001b[1;32m     11\u001b[0m \u001b[0;32mfrom\u001b[0m \u001b[0mutils\u001b[0m\u001b[0;34m.\u001b[0m\u001b[0mflow_utils\u001b[0m \u001b[0;32mimport\u001b[0m \u001b[0mflow_to_image\u001b[0m\u001b[0;34m,\u001b[0m \u001b[0mresize_flow\u001b[0m\u001b[0;34m\u001b[0m\u001b[0;34m\u001b[0m\u001b[0m\n\u001b[1;32m     12\u001b[0m \u001b[0;32mfrom\u001b[0m \u001b[0mutils\u001b[0m\u001b[0;34m.\u001b[0m\u001b[0mtorch_utils\u001b[0m \u001b[0;32mimport\u001b[0m \u001b[0mrestore_model\u001b[0m\u001b[0;34m\u001b[0m\u001b[0;34m\u001b[0m\u001b[0m\n\u001b[0;32m---> 13\u001b[0;31m \u001b[0;32mfrom\u001b[0m \u001b[0mmodels\u001b[0m\u001b[0;34m.\u001b[0m\u001b[0mpwclite\u001b[0m \u001b[0;32mimport\u001b[0m \u001b[0mPWCLite\u001b[0m\u001b[0;34m\u001b[0m\u001b[0;34m\u001b[0m\u001b[0m\n\u001b[0m\u001b[1;32m     14\u001b[0m \u001b[0;34m\u001b[0m\u001b[0m\n\u001b[1;32m     15\u001b[0m \u001b[0;34m\u001b[0m\u001b[0m\n",
            "\u001b[0;32m/content/ARFlow-master/models/pwclite.py\u001b[0m in \u001b[0;36m<module>\u001b[0;34m()\u001b[0m\n\u001b[1;32m      4\u001b[0m \u001b[0;34m\u001b[0m\u001b[0m\n\u001b[1;32m      5\u001b[0m \u001b[0;32mfrom\u001b[0m \u001b[0mutils\u001b[0m\u001b[0;34m.\u001b[0m\u001b[0mwarp_utils\u001b[0m \u001b[0;32mimport\u001b[0m \u001b[0mflow_warp\u001b[0m\u001b[0;34m\u001b[0m\u001b[0;34m\u001b[0m\u001b[0m\n\u001b[0;32m----> 6\u001b[0;31m \u001b[0;32mfrom\u001b[0m \u001b[0;34m.\u001b[0m\u001b[0mcorrelation_package\u001b[0m\u001b[0;34m.\u001b[0m\u001b[0mcorrelation\u001b[0m \u001b[0;32mimport\u001b[0m \u001b[0mCorrelation\u001b[0m\u001b[0;34m\u001b[0m\u001b[0;34m\u001b[0m\u001b[0m\n\u001b[0m\u001b[1;32m      7\u001b[0m \u001b[0;31m# from .correlation_native import Correlation\u001b[0m\u001b[0;34m\u001b[0m\u001b[0;34m\u001b[0m\u001b[0;34m\u001b[0m\u001b[0m\n\u001b[1;32m      8\u001b[0m \u001b[0;34m\u001b[0m\u001b[0m\n",
            "\u001b[0;32m/content/ARFlow-master/models/correlation_package/correlation.py\u001b[0m in \u001b[0;36m<module>\u001b[0;34m()\u001b[0m\n\u001b[1;32m      2\u001b[0m \u001b[0;32mfrom\u001b[0m \u001b[0mtorch\u001b[0m\u001b[0;34m.\u001b[0m\u001b[0mnn\u001b[0m\u001b[0;34m.\u001b[0m\u001b[0mmodules\u001b[0m\u001b[0;34m.\u001b[0m\u001b[0mmodule\u001b[0m \u001b[0;32mimport\u001b[0m \u001b[0mModule\u001b[0m\u001b[0;34m\u001b[0m\u001b[0;34m\u001b[0m\u001b[0m\n\u001b[1;32m      3\u001b[0m \u001b[0;32mfrom\u001b[0m \u001b[0mtorch\u001b[0m\u001b[0;34m.\u001b[0m\u001b[0mautograd\u001b[0m \u001b[0;32mimport\u001b[0m \u001b[0mFunction\u001b[0m\u001b[0;34m\u001b[0m\u001b[0;34m\u001b[0m\u001b[0m\n\u001b[0;32m----> 4\u001b[0;31m \u001b[0;32mimport\u001b[0m \u001b[0mcorrelation_cuda\u001b[0m\u001b[0;34m\u001b[0m\u001b[0;34m\u001b[0m\u001b[0m\n\u001b[0m\u001b[1;32m      5\u001b[0m \u001b[0;34m\u001b[0m\u001b[0m\n\u001b[1;32m      6\u001b[0m \u001b[0;32mclass\u001b[0m \u001b[0mCorrelationFunction\u001b[0m\u001b[0;34m(\u001b[0m\u001b[0mFunction\u001b[0m\u001b[0;34m)\u001b[0m\u001b[0;34m:\u001b[0m\u001b[0;34m\u001b[0m\u001b[0;34m\u001b[0m\u001b[0m\n",
            "\u001b[0;31mModuleNotFoundError\u001b[0m: No module named 'correlation_cuda'"
          ]
        }
      ]
    },
    {
      "cell_type": "markdown",
      "metadata": {
        "id": "PjEQePQQoikT"
      },
      "source": [
        "### Bullet Time Effect\n",
        "\n",
        "In this question, you will estimate optical flow using ARFlow (or you can use some other flow method if you cannot make it work) and then use it to interpolate between two images. \n",
        "\n",
        "First, calculate the optical flow between two images, e.g. provided KITTI images in the example folder, using the ARFlow as illustrated by the example in inference.py. \n",
        "Then, synthesize 10 novel frames between the two images using linear interpolation. \n",
        "\n",
        "**Hint:** First, compute the flow and then divide it by the number of frames. Then, at each step, warp the image incrementally to obtain images in between. You can use OpenCV's `remap()` function for warping or have a look at the `flow_warp` in utils/warp_utils.py file of the ARFlow.\n",
        "\n",
        "* Where does the interpolation work well and where does it fail? \n",
        "* Please also hand-in your interpolated images or create a small movie.\n"
      ]
    },
    {
      "cell_type": "markdown",
      "metadata": {
        "id": "UCv3MXS5oikT"
      },
      "source": [
        "### Multi-frame Bullet Time Sequence (Optional)\n",
        "\n",
        "If you had fun with the previous question, you might want to extend this effect to several frames as in the original Matrix movie! \n",
        "\n",
        "Use consecutive images from last week's sequence or capture several images along a smooth camera trajectory and smoothly vary the pose of the objects in between. \n",
        "\n",
        "Between each two adjacent frames, interpolate an additional 10 to 100 frames and concatenate all images to one long slow motion video sequence."
      ]
    }
  ]
}